{
 "cells": [
  {
   "cell_type": "code",
   "execution_count": null,
   "id": "c5d49bb0",
   "metadata": {},
   "outputs": [],
   "source": [
    "#data encoding\n",
    "#str_cols = ['type_of_meal_plan', 'room_type_reserved', 'market_segment_type', 'booking_status']\n",
    "\n",
    "meal_en = preprocessing.LabelEncoder()\n",
    "meal_en.fit(df['type_of_meal_plan'])\n",
    "df['meal_plan_en'] = meal_en.transform(df['type_of_meal_plan'])\n",
    "\n",
    "#meal_en = preprocessing.LabelEncoder()\n",
    "#meal_en.fit(df['room_type_reserved'])\n",
    "#df['room_type_en'] = meal_en.transform(df['room_type_reserved'])\n",
    "room_dict = {}\n",
    "df['room_type_en_2'] = \n",
    "\n",
    "#meal_en = preprocessing.LabelEncoder()\n",
    "#meal_en.fit(df['market_segment_type'])\n",
    "#df['market_type_en'] = meal_en.transform(df['market_segment_type'])\n",
    "market_dict = {'Online':1, 'Offline':2, 'Aviation':3, 'Corporate':4, 'Complementary':5}\n",
    "market_dict_new = {'Online':5, 'Offline':4, 'Aviation':3, 'Corporate':2, 'Complementary':1}\n",
    "df['market_type_en_2'] = df['market_segment_type'].map(market_dict_new)"
   ]
  }
 ],
 "metadata": {
  "kernelspec": {
   "display_name": "Python 3 (ipykernel)",
   "language": "python",
   "name": "python3"
  },
  "language_info": {
   "codemirror_mode": {
    "name": "ipython",
    "version": 3
   },
   "file_extension": ".py",
   "mimetype": "text/x-python",
   "name": "python",
   "nbconvert_exporter": "python",
   "pygments_lexer": "ipython3",
   "version": "3.9.7"
  }
 },
 "nbformat": 4,
 "nbformat_minor": 5
}
